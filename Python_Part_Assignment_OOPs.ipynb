{
 "cells": [
  {
   "cell_type": "code",
   "execution_count": 2,
   "id": "9a663f9c-570b-48de-9412-9b59fce60435",
   "metadata": {},
   "outputs": [],
   "source": [
    "# course catalog using oops\n",
    "class Course:\n",
    "    def __init__(self, course_code, course_name, credit_hours):\n",
    "        self.course_code = course_code\n",
    "        self.course_name = course_name\n",
    "        self.credit_hours = credit_hours\n",
    "\n",
    "    def display_info(self):\n",
    "        print(f\"Course Code: {self.course_code}\")\n",
    "        print(f\"Course Name: {self.course_name}\")\n",
    "        print(f\"Credit Hours: {self.credit_hours}\")\n",
    "    "
   ]
  },
  {
   "cell_type": "code",
   "execution_count": 4,
   "id": "d197a928-bff0-4819-810a-9f55145567fe",
   "metadata": {},
   "outputs": [],
   "source": [
    "# Subclass for Core Course\n",
    "class CoreCourse(Course):\n",
    "    def __init__(self, course_code, course_name, credit_hours, required_for_major):\n",
    "        super().__init__(course_code, course_name, credit_hours)\n",
    "        self.required_for_major = required_for_major\n",
    "\n",
    "    def display_info(self):\n",
    "        super().display_info()\n",
    "        print(f\"Required for Major: {'Yes' if self.required_for_major else 'No'}\")\n",
    "\n",
    "# Subclass for Elective Course\n",
    "class ElectiveCourse(Course):\n",
    "    def __init__(self, course_code, course_name, credit_hours, elective_type):\n",
    "        super().__init__(course_code, course_name, credit_hours)\n",
    "        self.elective_type = elective_type\n",
    "\n",
    "    def display_info(self):\n",
    "        super().display_info()\n",
    "        print(f\"Elective Type: {self.elective_type}\")\n"
   ]
  },
  {
   "cell_type": "code",
   "execution_count": 10,
   "id": "42bb1c1f-e409-4777-893e-93a39615d830",
   "metadata": {},
   "outputs": [
    {
     "name": "stdout",
     "output_type": "stream",
     "text": [
      "Core Course Details:\n",
      "Course Code: CS101\n",
      "Course Name: Introduction to Computer Science\n",
      "Credit Hours: 3\n",
      "Required for Major: Yes\n",
      "\n",
      "Elective Course Details:\n",
      "Course Code: ENG201\n",
      "Course Name: Creative Writing\n",
      "Credit Hours: 2\n",
      "Elective Type: liberal arts\n"
     ]
    }
   ],
   "source": [
    "# Example usage:\n",
    "core_course = CoreCourse(\"CS101\", \"Introduction to Computer Science\", 3, True)\n",
    "elective_course = ElectiveCourse(\"ENG201\", \"Creative Writing\", 2, \"liberal arts\")\n",
    "\n",
    "print(\"Core Course Details:\")\n",
    "core_course.display_info()\n",
    "\n",
    "print(\"\\nElective Course Details:\")\n",
    "elective_course.display_info()\n"
   ]
  },
  {
   "cell_type": "code",
   "execution_count": 12,
   "id": "a757bd38-05fb-459a-9b4b-a440b51c92b0",
   "metadata": {},
   "outputs": [],
   "source": [
    "# creating employee name and salary class\n",
    "class Employee:\n",
    "    def __init__(self, name, salary):\n",
    "        self.name = name\n",
    "        self.salary = salary\n",
    "\n",
    "    def get_name(self):\n",
    "        return self.name\n",
    "\n",
    "    def get_salary(self):\n",
    "        return self.salary\n"
   ]
  },
  {
   "cell_type": "code",
   "execution_count": 72,
   "id": "d2050961-9f7e-4bf0-9b6e-95d16a59da63",
   "metadata": {},
   "outputs": [
    {
     "name": "stdout",
     "output_type": "stream",
     "text": [
      "Name: John Doe -----  Salary: 50000$\n",
      "Name: Alice Smith -----  Salary: 60000$\n",
      "Name: Bob Williams -----  Salary: 55000$\n"
     ]
    }
   ],
   "source": [
    "employees = {\n",
    "    \"John Doe\": Employee(\"John Doe\", 50000),\n",
    "    \"Alice Smith\": Employee(\"Alice Smith\", 60000),\n",
    "    \"Bob Williams\": Employee(\"Bob Williams\", 55000)\n",
    "}\n",
    "\n",
    "# Displaying all employees\n",
    "for name, emp in employees.items():\n",
    "    print(f\"Name: {emp.get_name()} -----  Salary: {emp.get_salary()}$\")"
   ]
  },
  {
   "cell_type": "code",
   "execution_count": null,
   "id": "1c0e5aab-9e48-433b-bed3-8a0d0a906903",
   "metadata": {},
   "outputs": [],
   "source": []
  }
 ],
 "metadata": {
  "kernelspec": {
   "display_name": "Python 3 (ipykernel)",
   "language": "python",
   "name": "python3"
  },
  "language_info": {
   "codemirror_mode": {
    "name": "ipython",
    "version": 3
   },
   "file_extension": ".py",
   "mimetype": "text/x-python",
   "name": "python",
   "nbconvert_exporter": "python",
   "pygments_lexer": "ipython3",
   "version": "3.12.7"
  }
 },
 "nbformat": 4,
 "nbformat_minor": 5
}
